{
 "cells": [
  {
   "cell_type": "markdown",
   "metadata": {},
   "source": [
    "# Fibonacci Retracement in Python for trading\n",
    "\n",
    "The Fibonacci Retracement is an analysis on the Fibonacci sequence and applies key ratios to determine where price corrections are likely to occurr. Usually this method helps traders decide when to take positions, it only helps with the entry point decisions, so it doesn't guess the trend nor the future price, but it's a help in trending markets. \n",
    "\n",
    "On a trending market, if we can identify two pivot points or fractal points and we already know the trend direction. The challenge is to know when to execute our position, when to enter the market. So for example, if we already know the trend is up and we're going long we want to buy, but we also need to minimize our risk and maximize our profit. This is where Fibonacci can be a helpful approach: we can identify the Fibonacci levels and wait for the price to retrace back to the golden zone, which is somewhere around 60% retracement distance.Sometimes 60% works fine and some other times the price might go back to as low as 70% retracement. As long as WE stick to a systematic approach, WE should be able to make profit and decrease your risk. \n",
    "\n",
    "The reason this method works is mainly the reward risk ratio, which is usually above 1.5, going in the direction of the trend.\n",
    "\n",
    "Let's see this strategy in an example:\n"
   ]
  },
  {
   "cell_type": "code",
   "execution_count": 4,
   "metadata": {},
   "outputs": [
    {
     "name": "stdout",
     "output_type": "stream",
     "text": [
      "Defaulting to user installation because normal site-packages is not writeable\n",
      "Requirement already satisfied: pandas_ta in /home/andy/.local/lib/python3.10/site-packages (0.3.14b0)\n",
      "Requirement already satisfied: pandas in /home/andy/.local/lib/python3.10/site-packages (from pandas_ta) (2.1.4)\n",
      "Requirement already satisfied: python-dateutil>=2.8.2 in /home/andy/.local/lib/python3.10/site-packages (from pandas->pandas_ta) (2.8.2)\n",
      "Requirement already satisfied: pytz>=2020.1 in /usr/lib/python3/dist-packages (from pandas->pandas_ta) (2022.1)\n",
      "Requirement already satisfied: tzdata>=2022.1 in /home/andy/.local/lib/python3.10/site-packages (from pandas->pandas_ta) (2023.4)\n",
      "Requirement already satisfied: numpy<2,>=1.22.4 in /home/andy/.local/lib/python3.10/site-packages (from pandas->pandas_ta) (1.26.3)\n",
      "Requirement already satisfied: six>=1.5 in /usr/lib/python3/dist-packages (from python-dateutil>=2.8.2->pandas->pandas_ta) (1.16.0)\n"
     ]
    }
   ],
   "source": [
    "# Loading the data\n",
    "!pip install pandas_ta\n",
    "\n",
    "import pandas as pd\n",
    "import pandas_ta as ta\n",
    "\n",
    "# Reading the data\n",
    "df = pd.read_csv(\"EURUSD_Candlestick_1_Hour_BID_04.05.2003-15.04.2023.csv\")\n",
    "\n",
    "# Evaluating NA values in df\n",
    "df=df[df['volume']!=0]\n",
    "df.reset_index(drop=True, inplace= True)\n",
    "df.isna().sum()\n",
    "df['RSI'] = ta.rsi(df.close, lenght= 12)\n",
    "df['EMA'] = ta.ema(df.close, lenght=150)\n",
    "df.tail()\n",
    "\n",
    "df=df[0:2000]"
   ]
  }
 ],
 "metadata": {
  "kernelspec": {
   "display_name": "env",
   "language": "python",
   "name": "python3"
  },
  "language_info": {
   "codemirror_mode": {
    "name": "ipython",
    "version": 3
   },
   "file_extension": ".py",
   "mimetype": "text/x-python",
   "name": "python",
   "nbconvert_exporter": "python",
   "pygments_lexer": "ipython3",
   "version": "3.10.12"
  }
 },
 "nbformat": 4,
 "nbformat_minor": 2
}
