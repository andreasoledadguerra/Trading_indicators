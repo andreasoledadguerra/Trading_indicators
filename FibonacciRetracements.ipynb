{
 "cells": [
  {
   "cell_type": "markdown",
   "metadata": {},
   "source": [
    "# Fibonacci Retracement in Python for trading\n",
    "\n",
    "The Fibonacci Retracement is an analysis on the Fibonacci sequence and applies key ratios to determine where price corrections are likely to occurr. Usually this method helps traders decide when to take positions, it only helps with the entry point decisions, so it doesn't guess the trend nor the future price, but it's a help in trending markets. \n",
    "\n",
    "On a trending market, if we can identify two pivot points or fractal points and we already know the trend direction. The challenge is to know when to execute our position, when to enter the market. So for example, if we already know the trend is up and we're going long we want to buy, but we also need to minimize our risk and maximize our profit. This is where Fibonacci can be a helpful approach: we can identify the Fibonacci levels and wait for the price to retrace back to the golden zone, which is somewhere around 60% retracement distance.Sometimes 60% works fine and some other times the price might go back to as low as 70% retracement. As long as WE stick to a systematic approach, WE should be able to make profit and decrease your risk. \n",
    "\n",
    "The reason this method works is mainly the reward risk ratio, which is usually above 1.5, going in the direction of the trend.\n",
    "\n",
    "Let's see this strategy in an example:\n"
   ]
  },
  {
   "cell_type": "code",
   "execution_count": 2,
   "metadata": {},
   "outputs": [
    {
     "name": "stdout",
     "output_type": "stream",
     "text": [
      "Defaulting to user installation because normal site-packages is not writeable\n",
      "Requirement already satisfied: pandas_ta in /home/andy/.local/lib/python3.10/site-packages (0.3.14b0)\n",
      "Requirement already satisfied: pandas in /home/andy/.local/lib/python3.10/site-packages (from pandas_ta) (2.1.4)\n",
      "Requirement already satisfied: python-dateutil>=2.8.2 in /home/andy/.local/lib/python3.10/site-packages (from pandas->pandas_ta) (2.8.2)\n",
      "Requirement already satisfied: tzdata>=2022.1 in /home/andy/.local/lib/python3.10/site-packages (from pandas->pandas_ta) (2023.4)\n",
      "Requirement already satisfied: numpy<2,>=1.22.4 in /home/andy/.local/lib/python3.10/site-packages (from pandas->pandas_ta) (1.26.3)\n",
      "Requirement already satisfied: pytz>=2020.1 in /usr/lib/python3/dist-packages (from pandas->pandas_ta) (2022.1)\n",
      "Requirement already satisfied: six>=1.5 in /usr/lib/python3/dist-packages (from python-dateutil>=2.8.2->pandas->pandas_ta) (1.16.0)\n"
     ]
    }
   ],
   "source": [
    "# Loading the data\n",
    "!pip install pandas_ta\n",
    "\n",
    "import pandas as pd\n",
    "import pandas_ta as ta\n",
    "\n",
    "# Reading the data\n",
    "df = pd.read_csv(\"EURUSD_Candlestick_1_Hour_BID_04.05.2003-15.04.2023.csv\")\n",
    "\n",
    "# Evaluating NA values in df\n",
    "df=df[df['volume']!=0]\n",
    "df.reset_index(drop=True, inplace= True)\n",
    "df.isna().sum()\n",
    "df['RSI'] = ta.rsi(df.close, lenght= 12)\n",
    "df['EMA'] = ta.ema(df.close, lenght=150)\n",
    "df.tail()\n",
    "\n",
    "df=df[0:2000]"
   ]
  },
  {
   "cell_type": "markdown",
   "metadata": {},
   "source": [
    "## Trend detection\n"
   ]
  },
  {
   "cell_type": "code",
   "execution_count": 4,
   "metadata": {},
   "outputs": [],
   "source": [
    "\n",
    "EMAsignal = [0]*len(df) # Generating signals based on Exponential Moving Average (EMA) \n",
    "backcandles = 15 #the amount of candles can be changed depending of the timeframe\n",
    "\n",
    "for row in range(backcandles, len(df)):\n",
    "    upt = 1\n",
    "    dnt = 1\n",
    "    for i in range(row-backcandles, row+1):\n",
    "        if max(df.open[i], df.close[i]>=df.EMA[i]): #This condition checks if the maximum of the open and close prices of the candle \n",
    "                                                    #is greater than or equal to the corresponding EMA value. \n",
    "                                                    #If this condition is true, it means that the price is above the EMA.\n",
    "            dnt =0\n",
    "        if min(df.open[i], df.close[i]<=df.EMA[i]): #This condition checks if the minimum of the open and close prices of the candle is \n",
    "                                                    #less than or equal to the corresponding EMA value. \n",
    "                                                     #If this condition is true, it means that the price is below the EMA.\n",
    "            upt=0\n",
    "    if upt== 1 and dnt==1: #If both 'upt' and 'dnt' are still equal to 1 after checking all the historical candles, \n",
    "                           #it means that there is no crossover signal detected,\n",
    "                           # and the current row corresponds to a period of consolidation.\n",
    "        EMAsignal[row]=3\n",
    "    elif upt==1: #If 'upt' is equal to 1 but dnt is not, it means that there is an uptrend signal detected.\n",
    "        EMAsignal[row]=2\n",
    "    elif dnt==1: #If 'dnt' is equal to 1 but upt is not, it means that there is a downtrend signal detected\n",
    "        EMAsignal[row]=1  \n",
    "\n",
    "df['EMASignal'] = EMAsignal  "
   ]
  },
  {
   "cell_type": "markdown",
   "metadata": {},
   "source": [
    "## Generating our Fibonacci signal"
   ]
  },
  {
   "cell_type": "code",
   "execution_count": 7,
   "metadata": {},
   "outputs": [],
   "source": [
    "def generate_signal(df, l, backcandles, gap, zone_threshold, price_diff_threshold):\n",
    "                     # where 'l' is the index of the current candle to test if it's a signal candle; \n",
    "                     # 'gap' is a limited number of candles that doesn't stretch back to the entire back candles number;\n",
    "                     # 'zone threshold' represent the \"noise\" in the market\n",
    "                     # 'price_diff_threshold' is used to detect this difference \n",
    "                     # between the levels of the different pivots or the different fractal points.\n",
    "    \n",
    "    max_price = df.high[l-backcandles:l-gap].max()\n",
    "    min_price = df.low[l-backcandles:l-gap].min()\n",
    "    index_max = df.high[l-backcandles:l-gap].idmax()\n",
    "    index_min = df.low[l-backcandles:l-gap].idxmin()\n",
    "    price_diff = max_price - min_price\n",
    "\n",
    "    if (df.EMASignal[l] == 2\n",
    "        and (index_min < index_max)\n",
    "        and price_diff >price_diff_threshold):\n",
    "        l1 = max_price - 0.62 * price_diff #position entry 0.62 (golden zone)\n",
    "        l2 = max_price - 0.78 * price_diff # Stop Loss 0.78\n",
    "        l3 = max_price - 0. * price_diff # profit\n",
    "        if abs(df.close[1]-l1) < zone_threshold and df.high[l-gap:l].min()>l1:\n",
    "            return (2, l2, l3, index_min, index_max)\n",
    "        else:\n",
    "            return (0,0,0,0,0)\n",
    "        \n",
    "    #for the down trend we are going to use the same approach\n",
    "    elif (df.EMASignal[l] == 1\n",
    "        and (index_min > index_max)\n",
    "        and price_diff >price_diff_threshold):\n",
    "        l1 = min_price - 0.62 * price_diff #position entry 0.62 (golden zone)\n",
    "        l2 = min_price - 0.78 * price_diff # Stop Loss 0.78\n",
    "        l3 = min_price - 0. * price_diff # profit\n",
    "        if abs(df.close[l]-l1) < zone_threshold and df.low[l-gap:l].max()<l1:\n",
    "            return (2, l2, l3, index_min, index_max)\n",
    "        else:\n",
    "            return (0,0,0,0,0)"
   ]
  }
 ],
 "metadata": {
  "kernelspec": {
   "display_name": "env",
   "language": "python",
   "name": "python3"
  },
  "language_info": {
   "codemirror_mode": {
    "name": "ipython",
    "version": 3
   },
   "file_extension": ".py",
   "mimetype": "text/x-python",
   "name": "python",
   "nbconvert_exporter": "python",
   "pygments_lexer": "ipython3",
   "version": "3.10.12"
  }
 },
 "nbformat": 4,
 "nbformat_minor": 2
}
