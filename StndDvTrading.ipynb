{
 "cells": [
  {
   "cell_type": "markdown",
   "metadata": {},
   "source": [
    "# Standard deviation for trading with Python\n",
    "\n",
    "## Definition of Standard deviation\n",
    "\n",
    "In statistics,\n",
    "\n",
    "    The standard deviation (σ) is a measure that is used to quantify the amount of variation or dispersion of data from its mean.\n",
    "\n",
    "So, if the values in a dataset lie close together, the standard deviation would be small. On the contrary, if the values are spread out, the standard deviation would be larger.\n"
   ]
  },
  {
   "cell_type": "markdown",
   "metadata": {},
   "source": [
    "## Standard deviation in Finance and Trading\n",
    "\n",
    "### Standard deviation as a measure of volatility\n",
    "\n",
    "In trading and finance, it's important to quantify the volatility of an asset. An asset’s volatility, unlike its return or price, is an unobserved variable.\n",
    "\n",
    "Standard deviation has a special significance in risk management and performance analysis as it is often used as a proxy for the volatility of a security. For example, the well-established blue-chip securities have a lower standard deviation in their returns compared to that of small-cap stocks.\n",
    "\n",
    "On the other hand, assets like cryptocurrency have a higher standard deviation, as their returns vary widely from their mean.\n",
    "\n",
    "In the next section, we will learn to compute the annualized volatility of stocks in Python.\n",
    "Computing annualized volatility of stocks using Python\n",
    "\n",
    "Let us now compute and compare the annualized volatility for two Indian stocks namely, ITC and Reliance. We begin with fetching the end of day close price data using the *yfinance* library for a period of the last 5 years:"
   ]
  }
 ],
 "metadata": {
  "language_info": {
   "name": "python"
  }
 },
 "nbformat": 4,
 "nbformat_minor": 2
}
