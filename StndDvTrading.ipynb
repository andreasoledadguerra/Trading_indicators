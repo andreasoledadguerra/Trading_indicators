{
 "cells": [
  {
   "cell_type": "markdown",
   "metadata": {},
   "source": [
    "# Standard deviation for trading with Python\n",
    "\n",
    "## Definition of Standard deviation\n",
    "\n",
    "In statistics,\n",
    "\n",
    "    The standard deviation (σ) is a measure that is used to quantify the amount of variation or dispersion of data from its mean.\n",
    "\n",
    "So, if the values in a dataset lie close together, the standard deviation would be small. On the contrary, if the values are spread out, the standard deviation would be larger.\n"
   ]
  },
  {
   "cell_type": "markdown",
   "metadata": {},
   "source": [
    "## Standard deviation in Finance and Trading\n",
    "\n",
    "### Standard deviation as a measure of volatility\n",
    "\n",
    "In trading and finance, it's important to quantify the volatility of an asset. An asset’s volatility, unlike its return or price, is an unobserved variable.\n",
    "\n",
    "Standard deviation has a special significance in risk management and performance analysis as it is often used as a proxy for the volatility of a security. For example, the well-established blue-chip securities have a lower standard deviation in their returns compared to that of small-cap stocks.\n",
    "\n",
    "On the other hand, assets like cryptocurrency have a higher standard deviation, as their returns vary widely from their mean.\n",
    "\n",
    "In the next section, we will show how to compute the annualized volatility of stocks in Python.\n",
    "\n",
    "Let us now compute and compare the annualized volatility for two Indian stocks namely, ITC and Reliance. We begin with fetching the end of day close price data using the *yfinance* library for a period of the last 5 years:"
   ]
  },
  {
   "cell_type": "markdown",
   "metadata": {},
   "source": [
    "## Importing libraries"
   ]
  },
  {
   "cell_type": "code",
   "execution_count": null,
   "metadata": {},
   "outputs": [],
   "source": [
    "!pip install yfinance\n",
    "import yfinance as yf\n",
    "import warnings\n",
    "warnings.filterwarnings('ignore')\n"
   ]
  },
  {
   "cell_type": "markdown",
   "metadata": {},
   "source": [
    "## Downloading the data"
   ]
  },
  {
   "cell_type": "code",
   "execution_count": null,
   "metadata": {},
   "outputs": [],
   "source": [
    "# Downloading the data for ITC and RELIANCE stocks using Yahoo Finance library\n",
    "itc_df = yf.download('ITC.NS', period= '5y') [['Adj Close']]\n",
    "reliance_df = yf.download('RELIANCE.NS', period = '5y') [['Adj Close']]\n"
   ]
  },
  {
   "cell_type": "code",
   "execution_count": null,
   "metadata": {},
   "outputs": [],
   "source": [
    "#Taking a look at the fetched data\n",
    "itc_df.tail()"
   ]
  },
  {
   "cell_type": "code",
   "execution_count": null,
   "metadata": {},
   "outputs": [],
   "source": [
    "reliance_df.tail()"
   ]
  },
  {
   "cell_type": "markdown",
   "metadata": {},
   "source": [
    "Below, we calculate the daily returns using the pct_change() method and the standard deviation of those returns using the std() method to get the daily volatilities of the two stocks:"
   ]
  },
  {
   "cell_type": "code",
   "execution_count": null,
   "metadata": {},
   "outputs": [],
   "source": [
    "# Compute the returns of the two stocks:\n",
    "itc_df['Returns'] = itc_df['Adj Close'].pct_change()\n",
    "reliance_df['Returns'] = reliance_df['Adj Close'].pct_change()\n",
    "print(reliance_df[['Adj Close','Returns']])"
   ]
  },
  {
   "cell_type": "markdown",
   "metadata": {},
   "source": [
    "##"
   ]
  },
  {
   "cell_type": "code",
   "execution_count": null,
   "metadata": {},
   "outputs": [],
   "source": [
    "# Compute the standard deviation of the returns using the pandas std() method:\n",
    "daily_sd_itc = itc_df['Returns'].std()\n",
    "daily_sd_rel = reliance_df['Returns'].std()"
   ]
  },
  {
   "cell_type": "code",
   "execution_count": null,
   "metadata": {},
   "outputs": [],
   "source": [
    "reliance_df.dropna(inplace=True)\n",
    "reliance_df.head()"
   ]
  },
  {
   "cell_type": "markdown",
   "metadata": {},
   "source": [
    "In general, the volatility of assets is quoted in annual terms. So below, we convert the daily volatilities to annual volatilities by multiplying with the square root of 252 (the number of trading days in a year):"
   ]
  },
  {
   "cell_type": "code",
   "execution_count": null,
   "metadata": {},
   "outputs": [],
   "source": [
    "import numpy as np\n",
    "# Annualized standard deviation\n",
    "annualized_sd_itc = daily_sd_itc * np.sqrt(252)\n",
    "annualized_sd_rel = daily_sd_rel * np.sqrt(252)\n",
    "print(f'The annualized standar deviation of the ITC stock daily returns is: {annualized_sd_itc*100:.2f}%')\n",
    "print(f'The annualized standard deviation of the Reliance stock daily returns is: {annualized_sd_rel*100:.2f}%')"
   ]
  },
  {
   "cell_type": "markdown",
   "metadata": {},
   "source": [
    "## Standard deviation with Bessel's correction\n",
    "\n",
    "Now we will compute the standard deviation with Bessel's correction. To do this, we provide a ddof parameter to the Numpy std function. Here, ddof means 'Delta Degrees of Freedom'.\n",
    "\n",
    "By default, Numpy uses ddof=0 for calculating standard deviation- this is the standard deviation of the population. For calculating the standard deviation of a sample, we give ddof=1, so that in the formula, (n−1) is used as the divisor. Below, we do the same:"
   ]
  },
  {
   "cell_type": "code",
   "execution_count": null,
   "metadata": {},
   "outputs": [],
   "source": [
    "# Compute the standard deviation with Bessel's correction\n",
    "daily_sd_itc_b = itc_df['Returns'].std(ddof=1)\n",
    "daily_sd_rel_b = reliance_df['Returns'].std(ddof=1)\n",
    "\n",
    "# Annualized standard deviation with Bessel's correction\n",
    "annualized_sd_itc_b = daily_sd_itc_b* np.sqrt(252)\n",
    "annualized_sd_rel_b = daily_sd_rel_b* np.sqrt(252)\n",
    "\n",
    "print(f'The annualized standard deviation of the ITC stock daily returns with Bessel\\'s correction is: {annualized_sd_itc_b*100:.2f}%')\n",
    "print(f'The annualized standard deviation of the reliance stock daily returns with Bessel\\'s correction is: {annualized_sd_rel_b*100:.2f}%')\n"
   ]
  },
  {
   "cell_type": "markdown",
   "metadata": {},
   "source": [
    "Thus, we can observe that, as the sample size is very large, Bessel's correction does not have much impact on the obtained values of standard deviation. In addition, based on the given data, we can say that the Reliance stock is more volatile compared to the ITC stock."
   ]
  },
  {
   "cell_type": "markdown",
   "metadata": {},
   "source": [
    "## The z-score in Standard Deviation\n",
    "\n",
    "Z-score is a metric that tells us how many standard deviations away a particular data point is from the mean. It can be negative or positive. A positive z-score, like 1, indicates that the data point lies one standard deviation above the mean and a negative z-score, like -2, implies that the data point lies two standard deviations below the mean.\n",
    "\n",
    "In financial terms, when calculating the z-score on the returns of an asset, a higher value of z-score (either positive or negative) means that the return of the security differs significantly from its mean value. So, the z-score tells us how well the data point conforms to the norm.\n",
    "\n",
    "Usually, if the absolute value of a z score of a data point is very high (for example, more than 3), it indicates that the data point is quite different from the other data points.\n",
    "\n",
    "we calculate and plot the z-scores for the ITC stock returns using the above formula in Python:"
   ]
  },
  {
   "cell_type": "code",
   "execution_count": null,
   "metadata": {},
   "outputs": [],
   "source": [
    "itc_df['z-score'] = (itc_df['Returns'] - itc_df['Returns'].mean())/itc_df['Returns'].std(ddof=1)"
   ]
  },
  {
   "cell_type": "code",
   "execution_count": null,
   "metadata": {},
   "outputs": [],
   "source": [
    "import matplotlib.pyplot as plt\n",
    "\n",
    "itc_df['z-score'].plot(figsize=(20,10));\n",
    "plt.axhline(-3, color='cyan')\n",
    "plt.title('Z-scores for ITC stock returns')\n",
    "plt.show();"
   ]
  },
  {
   "cell_type": "markdown",
   "metadata": {},
   "source": [
    "From the above figure, we observe that around March of 2020, the ITC stock returns had a z-score reaching below -3 several times, indicating that the returns were more than 3 standard deviations below the mean for the given data sample. As we know that this was during the sell-off triggered by the COVID pandemic.\n",
    "\n",
    "In addition, a standardized measure like the z-score is used widely to generate signals for mean-reverting trading strategies such as pair trading."
   ]
  },
  {
   "cell_type": "markdown",
   "metadata": {},
   "source": [
    "Also, one can use the zscore function from the scipy.stats module to calculate the z-scores as follows:"
   ]
  },
  {
   "cell_type": "code",
   "execution_count": null,
   "metadata": {},
   "outputs": [],
   "source": [
    "# Computing z-scores in python using scipy.stats module\n",
    "import scipy.stats as stats\n",
    "reliance_df['Returns_zscore'] = stats.zscore(reliance_df['Returns'])\n",
    "reliance_df.tail()"
   ]
  },
  {
   "cell_type": "markdown",
   "metadata": {},
   "source": [
    "## Value at Risk with standard deviation\n",
    "Value at Risk (VaR) is an important financial risk management metric that quantifies the maximum loss that can be realized in a given time with a given level of confidence/probability for a given strategy, portfolio or trading desk.\n",
    "\n",
    "In this method we assume that the returns are normally distributed for the lookback period. Understand how VaR calculation can help enhance your skills in financial risk management.\n",
    "\n",
    "We calculate the z-score of the returns of the strategy based on the confidence level we want and then multiply it with the standard deviation to get the VaR. To get the VaR in dollar terms, we can multiply it with the investment in the strategy.\n",
    "\n",
    "For example, if we want the 95% confidence VaR, we are essentially finding the cut-off point for the worst 5% of the losses from the returns distribution. If we assume that the stock returns are normally distributed, then their z-scores will have a standard normal distribution. So, the cut-off point for the worst 5% returns is -1.64.\n",
    "\n",
    "Thus the 1-year 95% VaR of a simple strategy of investing in the ITC stock is given by:\n",
    "\n",
    "VaR = (−1.64) ∗ (s) ∗ investment\n",
    "\n",
    "where, s is the annualized standard deviation of the ITC stocks."
   ]
  },
  {
   "cell_type": "code",
   "execution_count": null,
   "metadata": {},
   "outputs": [],
   "source": [
    "#1 year 95% VaR calculation for ITC stock:\n",
    "from scipy.stats import norm\n",
    "\n",
    "initial_investment = 100000\n",
    "annual_standard_deviation = annualized_sd_itc\n",
    "confidence_level = .95\n",
    "\n",
    "# using the norm.ppf (percent point function), calculate the value where 95% our data lies\n",
    "z_score_cut_off = norm.ppf(1-confidence_level, 0, 1)"
   ]
  },
  {
   "cell_type": "code",
   "execution_count": null,
   "metadata": {},
   "outputs": [],
   "source": [
    "VaR = z_score_cut_off * annual_standard_deviation * initial_investment\n",
    "VaR"
   ]
  },
  {
   "cell_type": "markdown",
   "metadata": {},
   "source": [
    "Thus, we can say that the maximum loss that can be realized in 1 year with 95% confidence is INR 45045. Of course, this was calculated under the assumption that ITC stock returns follow a normal distribution."
   ]
  },
  {
   "cell_type": "markdown",
   "metadata": {},
   "source": [
    "## Confidence intervals with standard deviation\n",
    "\n",
    "Another common use case for standard deviation is in computing the confidence intervals.\n",
    "\n",
    "In general, when we work with data, we assume that the population from which the data has been generated follows a certain distribution and the population parameters for that distribution are not known. These population parameters have to be estimated using the sample.\n",
    "\n",
    "For example, the mean daily return of the ITC stock is a population parameter, which we try to estimate using the sample mean. This gives us a point estimate. However, financial market forecasts are probabilistic, and hence, it would make more sense to work with an interval estimate rather than a point estimate.\n",
    "\n",
    "A confidence interval gives a probable estimated range within which the value of population parameter may lie. Assuming the data to be normally distributed, we can use the empirical rule to describe the percentage of data that falls within 1, 2, and 3 standard deviations from the mean.\n",
    "\n",
    "   1. About 68% of the values lie between -1 and +1 standard deviation from the mean.\n",
    "   2. About 95% of the values lie within two standard deviations from the mean.\n",
    "   3. About 99.7% of the values lie within three standard deviations from the mean."
   ]
  },
  {
   "cell_type": "code",
   "execution_count": null,
   "metadata": {},
   "outputs": [],
   "source": [
    "# Compute the sample mean of the ITC returns\n",
    "daily_mean_itc = itc_df['Returns'].mean()\n",
    "\n",
    "#Compute 95% confidence interval for the ITC returns\n",
    "ci_95_itc_upper = daily_mean_itc + 2* daily_sd_itc_b\n",
    "ci_95_itc_lower = daily_mean_itc - 2* daily_sd_itc_b\n",
    "print(f'The 95% confidence interval of the ITC stock daily returns is: [{ci_95_itc_lower:.2f},{ci_95_itc_upper:.2f}]')"
   ]
  },
  {
   "cell_type": "markdown",
   "metadata": {},
   "source": [
    "## Conclusion\n",
    "\n",
    "In this notebook, we have seen how standard deviation captures the dispersion in a given dataset with ease. We saw that interpreting the standard deviation is much more intuitive compared to variance and why it remains the most popular measure of dispersion in the world of quantitative finance.\n",
    "\n",
    "Moreover, we discussed some use cases of standard deviation in quant finance and trading such as estimating the unobservable volatility of asset returns, the z-score, computation of VaR for risk management and determining confidence intervals for unknown population parameters."
   ]
  }
 ],
 "metadata": {
  "kernelspec": {
   "display_name": "env",
   "language": "python",
   "name": "python3"
  },
  "language_info": {
   "codemirror_mode": {
    "name": "ipython",
    "version": 3
   },
   "file_extension": ".py",
   "mimetype": "text/x-python",
   "name": "python",
   "nbconvert_exporter": "python",
   "pygments_lexer": "ipython3",
   "version": "3.10.12"
  }
 },
 "nbformat": 4,
 "nbformat_minor": 2
}
